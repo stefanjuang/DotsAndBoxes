{
 "cells": [
  {
   "cell_type": "markdown",
   "metadata": {},
   "source": [
    "### Understanding the Dots and Boxes Game Implementation"
   ]
  },
  {
   "cell_type": "markdown",
   "metadata": {},
   "source": [
    "#### Overview\n",
    "\n",
    "**Dots and Boxes** is a two-player game where players take turns drawing lines between dots on a grid. The objective is to complete boxes by drawing the fourth side of the box. The player who completes a box gets an extra turn and scores a point."
   ]
  },
  {
   "cell_type": "markdown",
   "metadata": {},
   "source": [
    "#### Data Structures\n",
    "\n",
    "1. **Grid Representation**:\n",
    "    - The game board is represented as a 2D list of dictionaries.\n",
    "    - Each dictionary holds the state of the horizontal (`'h'`) and vertical (`'v'`) lines connecting the dots.\n",
    "    - The grid structure is created based on the number of rows and columns specified for the game. For example, a 5x5 grid will have 5 rows and 5 columns of dictionaries."
   ]
  },
  {
   "cell_type": "code",
   "execution_count": null,
   "metadata": {},
   "outputs": [],
   "source": [
    "self.grid = [[{'h': False, 'v': False} for _ in range(self.cols)] for _ in range(self.rows)]"
   ]
  },
  {
   "cell_type": "markdown",
   "metadata": {},
   "source": [
    "  **Here**: \n",
    "  - `self.grid` is initialized to a 2D list where each element is a dictionary with two keys: `'h'` for horizontal lines and `'v'` for vertical lines. Both keys are initially set to `False`, indicating that no lines have been drawn yet."
   ]
  },
  {
   "cell_type": "markdown",
   "metadata": {},
   "source": [
    "2. **Box Tracking**:\n",
    "    - The game also needs to keep track of which player completes each box. This is done using another 2D list called `self.boxes`.\n",
    "    - Each element in `self.boxes` represents a box on the grid, and it holds `None` if the box is not yet completed, or the player number (1 or 2) who completed the box.\n",
    "    - The size of `self.boxes` is one less than the grid in both dimensions because a box is formed between four dots."
   ]
  },
  {
   "cell_type": "code",
   "execution_count": null,
   "metadata": {},
   "outputs": [],
   "source": [
    "self.boxes = [[None for _ in range(self.cols-1)] for _ in range(self.rows-1)]"
   ]
  },
  {
   "cell_type": "markdown",
   "metadata": {},
   "source": [
    "  **.**\n",
    "  - `self.boxes` is initialized to a 2D list where each element is `None`, indicating that no boxes have been completed at the start of the game."
   ]
  },
  {
   "cell_type": "markdown",
   "metadata": {},
   "source": [
    "3. **Scores and Current Player**:\n",
    "    - The game keeps track of the scores of both players using a dictionary `self.scores`.\n",
    "    - `self.current_player` is a variable that keeps track of whose turn it is to play."
   ]
  },
  {
   "cell_type": "code",
   "execution_count": null,
   "metadata": {},
   "outputs": [],
   "source": [
    "self.scores = {1: 0, 2: 0}\n",
    "self.current_player = 1"
   ]
  },
  {
   "cell_type": "markdown",
   "metadata": {},
   "source": [
    "  **.** \n",
    "  - `self.scores` is a dictionary with keys 1 and 2, representing the two players. The values are their respective scores, which start at 0.\n",
    "  - `self.current_player` is set to 1 at the start, indicating that Player 1 will make the first move."
   ]
  },
  {
   "cell_type": "markdown",
   "metadata": {},
   "source": [
    "#### Key Functions\n",
    "\n",
    "1. **Initialization and Reset**:\n",
    "    - `__init__(self, rows, cols)`: Initializes the game board with the specified rows and columns.\n",
    "    - The constructor ensures that the grid size is at least 2x2 to form valid boxes."
   ]
  },
  {
   "cell_type": "code",
   "execution_count": null,
   "metadata": {},
   "outputs": [],
   "source": [
    "def __init__(self, rows, cols):\n",
    "    if rows < 2 or cols < 2:\n",
    "        raise ValueError(\"Grid size must be at least 2x2\")\n",
    "    self.rows = rows\n",
    "    self.cols = cols\n",
    "    self.reset()"
   ]
  },
  {
   "cell_type": "markdown",
   "metadata": {},
   "source": [
    "  **.** \n",
    "  - `reset(self)`: Resets the game to its initial state, clearing the grid and resetting scores.\n",
    "  - The grid and boxes are reset to their initial states, and the current player is set to 1."
   ]
  },
  {
   "cell_type": "code",
   "execution_count": null,
   "metadata": {},
   "outputs": [],
   "source": [
    "def reset(self):\n",
    "    self.grid = [[{'h': False, 'v': False} for _ in range(self.cols)] for _ in range(self.rows)]\n",
    "    self.boxes = [[None for _ in range(self.cols-1)] for _ in range(self.rows-1)]\n",
    "    self.current_player = 1\n",
    "    self.scores = {1: 0, 2: 0}\n",
    "    print(\"Game reset\")"
   ]
  },
  {
   "cell_type": "markdown",
   "metadata": {},
   "source": [
    "2. **Drawing Lines**:\n",
    "    - `draw_line(self, start, end)`: Main method to draw a line between two points if the move is valid. Updates the grid, checks for box completion, and manages player turns.\n",
    "    - When a player makes a move, they specify the start and end points of the line they wish to draw. This move is first validated to ensure it is within the bounds of the grid, forms a straight line, and has not already been drawn. If the move is valid, the grid is updated to reflect the new line by setting the corresponding `'h'` or `'v'` value to `True` in the `self.grid`. The game then checks if the new line completes any boxes by verifying if all four sides of a box are drawn. If a box is completed, it updates the `self.boxes` and the scores, and the current player gets another turn; otherwise, the turn switches to the other player. If the game is over (i.e., all boxes are completed), the winner is determined based on the scores."
   ]
  },
  {
   "cell_type": "code",
   "execution_count": null,
   "metadata": {},
   "outputs": [],
   "source": [
    "def draw_line(self, start, end):\n",
    "    try:\n",
    "        if start is None or end is None:\n",
    "            print(\"Error: Missing required positional arguments 'start' and 'end'\")\n",
    "            return False\n",
    "\n",
    "        if not self.is_valid_input(start, end):\n",
    "            print(f\"Invalid input format: start={start}, end={end}\")\n",
    "            return False\n",
    "\n",
    "        if self.is_game_over():\n",
    "            self.get_winner()\n",
    "            return False\n",
    "\n",
    "        print(f\"Player {self.current_player} attempting to draw line from {start} to {end}\")\n",
    "        if self.is_valid_move(start, end):\n",
    "            print(f\"Move from {start} to {end} is valid\")\n",
    "            self.update_grid(start, end)\n",
    "            completed_box = self.check_and_update_boxes(start, end)\n",
    "            self.display_grid_and_boxes()\n",
    "            if completed_box:\n",
    "                print(f\"A box was completed by player {self.current_player}. The current player gets another turn.\")\n",
    "                return True  # Player gets another turn\n",
    "            else:\n",
    "                self.current_player = 3 - self.current_player\n",
    "                print(f\"No box completed. Switching to player {self.current_player}\")\n",
    "                return False\n",
    "        else:\n",
    "            self.print_invalid_move_message(start, end)\n",
    "            return False\n",
    "\n",
    "    except Exception as e:\n",
    "        logging.error(f\"Error: {e}. Input start: {start}, end: {end}\")\n",
    "        print(f\"An unexpected error occurred. Please check the log file for details.\")\n",
    "        return False"
   ]
  },
  {
   "cell_type": "markdown",
   "metadata": {},
   "source": [
    "  **.** \n",
    "  - `is_valid_move(self, start, end)`: Checks if the move is within bounds, a straight line, and not already drawn.\n",
    "  - This method combines several checks to ensure that the move is legal in the context of the game."
   ]
  },
  {
   "cell_type": "code",
   "execution_count": null,
   "metadata": {},
   "outputs": [],
   "source": [
    "def is_valid_move(self, start, end):\n",
    "    return (self.is_within_bounds(start, end) and\n",
    "            self.is_straight_line(start, end) and\n",
    "            not self.is_line_already_drawn(start, end))"
   ]
  },
  {
   "cell_type": "markdown",
   "metadata": {},
   "source": [
    "  **.** \n",
    "  - `is_within_bounds(self, start, end)`: Ensures the move is within the grid boundaries.\n",
    "  - This method checks if both the starting and ending points of the move are within the bounds of the grid."
   ]
  },
  {
   "cell_type": "code",
   "execution_count": null,
   "metadata": {},
   "outputs": [],
   "source": [
    "def is_within_bounds(self, start, end):\n",
    "    return (0 <= start[0] < self.rows and 0 <= start[1] < self.cols and\n",
    "            0 <= end[0] < self.rows and 0 <= end[1] < self.cols)"
   ]
  },
  {
   "cell_type": "markdown",
   "metadata": {},
   "source": [
    "  **.**\n",
    "  - `is_straight_line(self, start, end)`: Ensures the move is a straight line between adjacent dots.\n",
    "  - This method checks if the move is either horizontal or vertical and covers exactly one unit distance."
   ]
  },
  {
   "cell_type": "code",
   "execution_count": null,
   "metadata": {},
   "outputs": [],
   "source": [
    "def is_straight_line(self, start, end):\n",
    "    return (start[0] == end[0] and abs(start[1] - end[1]) == 1) or (start[1] == end[1] and abs(start[0] - end[0]) == 1)"
   ]
  },
  {
   "cell_type": "markdown",
   "metadata": {},
   "source": [
    "  **.** \n",
    "  - `is_line_already_drawn(self, start, end)`: Checks if the line between the two points is already drawn.\n",
    "  - This method verifies that the specified line hasn't already been drawn by checking the grid's state."
   ]
  },
  {
   "cell_type": "code",
   "execution_count": null,
   "metadata": {},
   "outputs": [],
   "source": [
    "def is_line_already_drawn(self, start, end):\n",
    "    if start[0] == end[0]:\n",
    "        return self.grid[start[0]][min(start[1], end[1])]['h']\n",
    "    else:\n",
    "        return self.grid[min(start[0], end[0])][start[1]]['v']"
   ]
  },
  {
   "cell_type": "markdown",
   "metadata": {},
   "source": [
    "3. **Grid Updates and Box Completion**:\n",
    "    - `update_grid(self, start, end)`: Updates the grid to reflect the newly drawn line.\n",
    "    - This method updates the state of the grid to mark the newly drawn line as occupied."
   ]
  },
  {
   "cell_type": "code",
   "execution_count": null,
   "metadata": {},
   "outputs": [],
   "source": [
    "def update_grid(self, start, end):\n",
    "    if start[0] == end[0]:\n",
    "        self.grid[start[0]][min(start[1], end[1])]['h'] = True\n",
    "        print(f\"Horizontal line drawn at row {start[0]} between columns {start[1]} and {end[1]}\")\n",
    "    else:\n",
    "        self.grid[min(start[0], end[0])][start[1]]['v'] = True\n",
    "        print(f\"Vertical line drawn at column {start[1]} between rows {start[0]} and {end[0]}\")"
   ]
  },
  {
   "cell_type": "markdown",
   "metadata": {},
   "source": [
    "  **.** \n",
    "  - `check_and_update_boxes(self, start, end)`: Checks if any boxes are completed by the new line and updates scores and player turns accordingly.\n",
    "  - This method checks the surrounding boxes of the newly drawn line to see if any box is completed, updates the scores, and keeps track of box ownership."
   ]
  },
  {
   "cell_type": "code",
   "execution_count": null,
   "metadata": {},
   "outputs": [],
   "source": [
    "def check_and_update_boxes(self, start, end):\n",
    "    completed_box = False\n",
    "    for box in self.get_surrounding_boxes(start, end):\n",
    "        print(f\"Checking potential box completion at {box}\")\n",
    "        if self.is_box_complete(box):\n",
    "            print(f\"Box completed at {box} by player {self.current_player}\")\n",
    "            self.boxes[box[0]][box[1]] = self.current_player\n",
    "            self.scores[self.current_player] += 1\n",
    "            completed_box = True\n",
    "    return completed_box"
   ]
  },
  {
   "cell_type": "markdown",
   "metadata": {},
   "source": [
    "  **.** \n",
    "  - `get_surrounding_boxes(self, start, end)`: Identifies the boxes that could be affected by the newly drawn line.\n",
    "  - This method determines which boxes might be completed based on the newly drawn line by checking the adjacent positions."
   ]
  },
  {
   "cell_type": "code",
   "execution_count": null,
   "metadata": {},
   "outputs": [],
   "source": [
    "def get_surrounding_boxes(self, start, end):\n",
    "    boxes = []\n",
    "    if start[0] > 0 and end[0] > 0 and start[0] == end[0]:  # Horizontal line\n",
    "        boxes.append((start[0]-1, min(start[1], end[1])))\n",
    "    if start[0] < self.rows - 1 and end[0] < self.rows - 1 and start[0] == end[0]:  # Horizontal line\n",
    "        boxes.append((start[0], min(start[1], end[1])))\n",
    "    if start[1] > 0 and end[1] > 0 and start[1] == end[1]:  # Vertical line\n",
    "        boxes.append((min(start[0], end[0]), start[1]-1))\n",
    "    if start[1] < self.cols - 1 and end[1] < self.cols - 1 and start[1] == end[1]:  # Vertical line\n",
    "        boxes.append((min(start[0], end[0]), start[1]))\n",
    "    return boxes"
   ]
  },
  {
   "cell_type": "markdown",
   "metadata": {},
   "source": [
    "  **.** \n",
    "  - `is_box_complete(self, box)`: Checks if a specified box is complete by checking the state of its four sides.\n",
    "  - This method verifies if all four sides of the specified box have been drawn."
   ]
  },
  {
   "cell_type": "code",
   "execution_count": null,
   "metadata": {},
   "outputs": [],
   "source": [
    "def is_box_complete(self, box):\n",
    "    r, c = box\n",
    "    complete = (\n",
    "        self.grid[r][c]['h'] and self.grid[r+1][c]['h'] and\n",
    "        self.grid[r][c]['v'] and self.grid[r][c+1]['v']\n",
    "    )\n",
    "    print(f\"Checking box at {box}: horizontal top {self.grid[r][c]['h']}, horizontal bottom {self.grid[r+1][c]['h']}, vertical left {self.grid[r][c]['v']}, vertical right {self.grid[r][c+1]['v']}\")\n",
    "    if complete:\n",
    "        print(f\"Box at {box} is complete.\")\n",
    "    return complete"
   ]
  },
  {
   "cell_type": "markdown",
   "metadata": {},
   "source": [
    "4. **Game State Checks**:\n",
    "    - `is_game_over(self)`: Checks if the game is over by verifying if all boxes are claimed.\n",
    "    - This method iterates through the boxes to check if all of them have been completed."
   ]
  },
  {
   "cell_type": "code",
   "execution_count": null,
   "metadata": {},
   "outputs": [],
   "source": [
    "def is_game_over(self):\n",
    "    for row in self.boxes:\n",
    "        for box in row:\n",
    "            if box is None:\n",
    "                return False\n",
    "    return True"
   ]
  },
  {
   "cell_type": "markdown",
   "metadata": {},
   "source": [
    "  **.** \n",
    "  - `get_winner(self)`: Determines the winner based on scores and handles ties gracefully.\n",
    "  - This method compares the scores of the two players and announces the winner, or declares a tie if the scores are equal."
   ]
  },
  {
   "cell_type": "code",
   "execution_count": null,
   "metadata": {},
   "outputs": [],
   "source": [
    "def get_winner(self):\n",
    "    print(f\"Final Scores: Player 1: {self.scores[1]}, Player 2: {self.scores[2]}\")\n",
    "    if self.scores[1] > self.scores[2]:\n",
    "        print(\"Player 1 wins!\")\n",
    "        return 1\n",
    "    elif self.scores[2] > self.scores[1]:\n",
    "        print(\"Player 2 wins!\")\n",
    "        return 2\n",
    "    else:\n",
    "        print(\"It's a tie!\")\n",
    "        return None"
   ]
  },
  {
   "cell_type": "markdown",
   "metadata": {},
   "source": [
    "5. **Display Functions**:\n",
    "    - `display(self)`: Displays the current state of the game board and scores.\n",
    "    - This method prints the current state of the grid, showing which lines have been drawn and the scores of both players."
   ]
  },
  {
   "cell_type": "code",
   "execution_count": null,
   "metadata": {},
   "outputs": [],
   "source": [
    "def display(self):\n",
    "    for r in range(self.rows):\n",
    "        line = \"\"\n",
    "        for c in range(self.cols):\n",
    "            line += \"o\"\n",
    "            if c < self.cols - 1:\n",
    "                line += \"---\" if self.grid[r][c]['h'] else \"   \"\n",
    "        print(line)\n",
    "        if r < self.rows - 1:\n",
    "            line = \"\"\n",
    "            for c in range(self.cols):\n",
    "                line += \"|\" if self.grid[r][c]['v'] else \" \"\n",
    "                if c < self.cols - 1:\n",
    "                    line += \"   \"\n",
    "            print(line)\n",
    "    print(\"Scores:\", self.scores)\n",
    "    print(f\"Player {self.current_player}'s turn.\")"
   ]
  },
  {
   "cell_type": "markdown",
   "metadata": {},
   "source": [
    "  **.** \n",
    "  - `display_grid_and_boxes(self)`: Displays the grid and boxes for debugging purposes.\n",
    "  - This method prints the current state of the grid and the boxes, useful for debugging."
   ]
  },
  {
   "cell_type": "code",
   "execution_count": null,
   "metadata": {},
   "outputs": [],
   "source": [
    "def display_grid_and_boxes(self):\n",
    "    print(\"\\nGrid state:\")\n",
    "    for r in range(self.rows):\n",
    "        line = \"\"\n",
    "        for c in range(self.cols):\n",
    "            line += \"o\"\n",
    "            if c < self.cols - 1:\n",
    "                line += \"---\" if self.grid[r][c]['h'] else \"   \"\n",
    "        print(line)\n",
    "        if r < self.rows - 1:\n",
    "            line = \"\"\n",
    "            for c in range(self.cols):\n",
    "                line += \"|\" if self.grid[r][c]['v'] else \" \"\n",
    "                if c < self.cols - 1:\n",
    "                    line += \"   \"\n",
    "            print(line)\n",
    "\n",
    "    print(\"\\nBoxes state:\")\n",
    "    for r in range(len(self.boxes)):\n",
    "        print(self.boxes[r])\n",
    "    print(\"\\n\")"
   ]
  },
  {
   "cell_type": "markdown",
   "metadata": {},
   "source": [
    "### Additional Considerations\n",
    "\n",
    "1. **Edge Case Handling**:\n",
    "    - **Boundary Moves**: Ensure moves at the edges of the grid are correctly handled.\n",
    "    - **Negative Indices**: Ensure negative indices are checked and handled.\n",
    "    - This method checks if both the starting and ending points of the move are within the bounds of the grid."
   ]
  },
  {
   "cell_type": "code",
   "execution_count": null,
   "metadata": {},
   "outputs": [],
   "source": [
    "def is_within_bounds(self, start, end):\n",
    "    return (0 <= start[0] < self.rows and 0 <= start[1] < self.cols and\n",
    "            0 <= end[0] < self.rows and 0 <= end[1] < self.cols)"
   ]
  },
  {
   "cell_type": "markdown",
   "metadata": {},
   "source": [
    "  **.** \n",
    "  - **Minimum Grid Size**: Validate that the grid size is at least 2x2 during initialization.\n",
    "  - This ensures that the grid is large enough to form at least one box."
   ]
  },
  {
   "cell_type": "code",
   "execution_count": null,
   "metadata": {},
   "outputs": [],
   "source": [
    "def __init__(self, rows, cols):\n",
    "    if rows < 2 or cols < 2:\n",
    "        raise ValueError(\"Grid size must be at least 2x2\")\n",
    "    self.rows = rows\n",
    "    self.cols = cols\n",
    "    self.reset()"
   ]
  },
  {
   "cell_type": "markdown",
   "metadata": {},
   "source": [
    "2. **Player Turn Management**:\n",
    "    - Ensure the current player is correctly switched after a valid move that doesn't complete a box.\n",
    "    - If a box is completed, the same player gets another turn; otherwise, the turn switches to the other player."
   ]
  },
  {
   "cell_type": "code",
   "execution_count": null,
   "metadata": {},
   "outputs": [],
   "source": [
    "def draw_line(self, start, end):\n",
    "    if self.is_valid_move(start, end):\n",
    "        self.update_grid(start, end)\n",
    "        completed_box = self.check_and_update_boxes(start, end)\n",
    "        if completed_box:\n",
    "            return True  # Player gets another turn\n",
    "        else:\n",
    "            self.current_player = 3 - self.current_player\n",
    "            return False"
   ]
  },
  {
   "cell_type": "markdown",
   "metadata": {},
   "source": [
    "    - Handle consecutive turns correctly when a player completes a box.\n",
    "    - This ensures that the player who completes a box gets an extra turn."
   ]
  },
  {
   "cell_type": "code",
   "execution_count": null,
   "metadata": {},
   "outputs": [],
   "source": [
    "if completed_box:\n",
    "    return True  # Player gets another turn"
   ]
  },
  {
   "cell_type": "markdown",
   "metadata": {},
   "source": [
    "3. **Input Validation**:\n",
    "    - Handle non-integer inputs gracefully.\n",
    "    - This method checks if the inputs are tuples of integers and are of length 2."
   ]
  },
  {
   "cell_type": "code",
   "execution_count": null,
   "metadata": {},
   "outputs": [],
   "source": [
    "def is_valid_input(self, start, end):\n",
    "    return (isinstance(start, tuple) and isinstance(end, tuple) and\n",
    "            len(start) == 2 and len(end) == 2 and\n",
    "            all(isinstance(i, int) for i in start + end))"
   ]
  },
  {
   "cell_type": "markdown",
   "metadata": {},
   "source": [
    "    - Handle missing inputs without causing crashes.\n",
    "    - This method ensures that both start and end points are provided."
   ]
  },
  {
   "cell_type": "code",
   "execution_count": null,
   "metadata": {},
   "outputs": [],
   "source": [
    "def draw_line(self, start=None, end=None):\n",
    "    if start is None or end is None:\n",
    "        print(\"Error: Missing required positional arguments 'start' and 'end'\")\n",
    "        return False"
   ]
  },
  {
   "cell_type": "markdown",
   "metadata": {},
   "source": [
    "4. **Error Logging**:\n",
    "    - Implement logging to capture unexpected errors for future debugging.\n",
    "    - Log invalid input attempts for future review and handling."
   ]
  },
  {
   "cell_type": "code",
   "execution_count": null,
   "metadata": {},
   "outputs": [],
   "source": [
    "import logging\n",
    "logging.basicConfig(filename='dots_and_boxes.log', level=logging.ERROR, format='%(asctime)s %(message)s')\n",
    "\n",
    "try:\n",
    "    # Code that might raise an exception\n",
    "except Exception as e:\n",
    "    logging.error(f\"Error: {e}. Input start: {start}, end: {end}\")\n",
    "    print(f\"An unexpected error occurred. Please check the log file for details.\")\n",
    "    return False"
   ]
  },
  {
   "cell_type": "markdown",
   "metadata": {},
   "source": [
    "5. **User Feedback and Interaction**:\n",
    "    - Provide clear prompts and feedback for player inputs during gameplay.\n",
    "    - Give detailed feedback for invalid moves, specifying the reason."
   ]
  },
  {
   "cell_type": "code",
   "execution_count": null,
   "metadata": {},
   "outputs": [],
   "source": [
    "def print_invalid_move_message(self, start, end):\n",
    "    if not self.is_within_bounds(start, end):\n",
    "        print(f\"Invalid move by player {self.current_player}: Move is out of bounds. Try again.\")\n",
    "    elif not self.is_straight_line(start, end):\n",
    "        print(f\"Invalid move by player {self.current_player}: Move is not a straight line. Try again.\")\n",
    "    elif self.is_line_already_drawn(start, end):\n",
    "        print(f\"Invalid move by player {self.current_player}: Line is already drawn. Try again.\")\n",
    "    else:\n",
    "        print(f\"Invalid move by player {self.current_player}: Unknown reason. Try again.\")"
   ]
  },
  {
   "cell_type": "markdown",
   "metadata": {},
   "source": [
    "### Example Workflow\n",
    "\n",
    "1. **Initialization**:\n",
    "    - Initialize the game with a specified grid size, ensuring the size is valid."
   ]
  },
  {
   "cell_type": "code",
   "execution_count": null,
   "metadata": {},
   "outputs": [],
   "source": [
    "game = DotsAndBoxes(5, 5)"
   ]
  },
  {
   "cell_type": "markdown",
   "metadata": {},
   "source": [
    "2. **Drawing Lines**:\n",
    "    - Players take turns to draw lines between dots.\n",
    "    - Each move is validated for bounds, straightness, and whether the line is already drawn."
   ]
  },
  {
   "cell_type": "code",
   "execution_count": null,
   "metadata": {},
   "outputs": [],
   "source": [
    "game.draw_line((0, 0), (0, 1))  # Player 1\n",
    "game.draw_line((0, 1), (1, 1))  # Player 2"
   ]
  },
  {
   "cell_type": "markdown",
   "metadata": {},
   "source": [
    "3. **Checking for Box Completion**:\n",
    "    - After each move, check if any boxes are completed.\n",
    "    - Update the scores and manage turns accordingly."
   ]
  },
  {
   "cell_type": "code",
   "execution_count": null,
   "metadata": {},
   "outputs": [],
   "source": [
    "game.check_and_update_boxes((0, 0), (0, 1))"
   ]
  },
  {
   "cell_type": "markdown",
   "metadata": {},
   "source": [
    "4. **Game Over and Winner Determination**:\n",
    "    - The game ends when all boxes are completed.\n",
    "    - Determine the winner based on scores, handling ties gracefully."
   ]
  },
  {
   "cell_type": "code",
   "execution_count": null,
   "metadata": {},
   "outputs": [],
   "source": [
    "if game.is_game_over():\n",
    "    game.get_winner()"
   ]
  },
  {
   "cell_type": "markdown",
   "metadata": {},
   "source": [
    "5. **Displaying the Game State**:\n",
    "    - Regularly display the current state of the game board, scores, and whose turn it is.\n",
    "    - Provide debugging information as needed."
   ]
  },
  {
   "cell_type": "code",
   "execution_count": null,
   "metadata": {},
   "outputs": [],
   "source": [
    "game.display()"
   ]
  },
  {
   "cell_type": "markdown",
   "metadata": {},
   "source": [
    "### Example Scenario\n",
    "\n",
    "1. **Player 1 draws a line** from (0, 0) to (0, 1)."
   ]
  },
  {
   "cell_type": "code",
   "execution_count": null,
   "metadata": {},
   "outputs": [],
   "source": [
    "game.draw_line((0, 0), (0, 1))"
   ]
  },
  {
   "cell_type": "markdown",
   "metadata": {},
   "source": [
    "2. **Player 2 draws a line** from (0, 1) to (1, 1)."
   ]
  },
  {
   "cell_type": "code",
   "execution_count": null,
   "metadata": {},
   "outputs": [],
   "source": [
    "game.draw_line((0, 1), (1, 1))"
   ]
  },
  {
   "cell_type": "markdown",
   "metadata": {},
   "source": [
    "3. **Player 1 draws a line** from (1, 1) to (1, 0)."
   ]
  },
  {
   "cell_type": "code",
   "execution_count": null,
   "metadata": {},
   "outputs": [],
   "source": [
    "game.draw_line((1, 1), (1, 0))"
   ]
  },
  {
   "cell_type": "markdown",
   "metadata": {},
   "source": [
    "4. **Player 1 draws a line** from (1, 0) to (0, 0), completing a box and earning an extra turn."
   ]
  },
  {
   "cell_type": "code",
   "execution_count": null,
   "metadata": {},
   "outputs": [],
   "source": [
    "game.draw_line((1, 0), (0, 0))  # Completes a box"
   ]
  },
  {
   "cell_type": "markdown",
   "metadata": {},
   "source": [
    "5. **Game state is displayed** showing the updated grid, scores, and whose turn it is."
   ]
  },
  {
   "cell_type": "code",
   "execution_count": null,
   "metadata": {},
   "outputs": [],
   "source": [
    "game.display()"
   ]
  }
 ],
 "metadata": {
  "kernelspec": {
   "display_name": "Python 3",
   "language": "python",
   "name": "python3"
  },
  "language_info": {
   "codemirror_mode": {
    "name": "ipython",
    "version": 3
   },
   "file_extension": ".py",
   "mimetype": "text/x-python",
   "name": "python",
   "nbconvert_exporter": "python",
   "pygments_lexer": "ipython3",
   "version": "3.8.5"
  }
 },
 "nbformat": 4,
 "nbformat_minor": 4
}
